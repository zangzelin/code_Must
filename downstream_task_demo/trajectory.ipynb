{
 "cells": [
  {
   "cell_type": "code",
   "execution_count": null,
   "metadata": {},
   "outputs": [],
   "source": [
    "import numpy as np\n",
    "import pandas as pd\n",
    "import matplotlib.pyplot as pl\n",
    "from matplotlib import rcParams\n",
    "import scanpy as sc\n",
    "\n",
    "from dataloader.stdata import STData\n",
    "\n",
    "# sc.settings.verbosity = 3\n",
    "sc.settings.set_figure_params(dpi=400, frameon=False, figsize=(5, 5), facecolor='white')  # low dpi (dots per inch) yields small inline figures\n",
    "# dic = {0: \"WM\", 1: \"Layer 1\", 2: \"Layer 2\", 3: \"Layer 3\", 4: \"Layer 4\", 5: \"Layer 5\", 6: \"Layer 6\"}\n",
    "dic = {0: \"0\", 1: \"1\", 2: \"2\", 3: \"3\", 4: \"4\", 5: \"5\", 6: \"6\", 7: \"7\", 8: \"8\"}"
   ]
  },
  {
   "cell_type": "code",
   "execution_count": null,
   "metadata": {},
   "outputs": [],
   "source": [
    "for dataset in ['200127_15']:\n",
    "    dataset = str(dataset)\n",
    "    load_dir = f'results/{dataset}/'\n",
    "    visium = STData(dataset)\n",
    "    emb = np.load(load_dir+'emb.npy')\n",
    "    emb_2d = np.load(load_dir + 'emb_2d.npy')\n",
    "    pred = np.load(load_dir+'pred_leiden.npy')\n",
    "\n",
    "    visium.adata.obs['pred'] = np.vectorize(dic.__getitem__)(pred)\n",
    "    visium.adata.obs['pred'] = visium.adata.obs['pred'].astype('category')\n",
    "    visium.adata.obsm['emb'] = emb\n",
    "    visium.adata.obsm['umap'] = emb_2d\n",
    "    visium.adata.uns['pred_colors'] = ['#2E91E5', '#E15F99', '#1CA71C', '#FB0D0D',\n",
    "                            '#DA16FF', '#222A2A', '#B68100', '#750D86',\n",
    "                            '#EB663B', '#511CFB', '#00A08B']\n",
    "    sc.pp.neighbors(visium.adata, n_neighbors=2, use_rep='emb')\n",
    "    sc.tl.paga(visium.adata, groups='pred')\n",
    "    sc.pl.paga_compare(visium.adata, legend_fontsize=0, frameon=False, size=20,\n",
    "                        legend_fontoutline=0, show=False)\n",
    "    pl.savefig(load_dir + 'traj.png')\n",
    "    extent = pl.gca().get_window_extent().transformed(pl.gcf().dpi_scale_trans.inverted())\n",
    "    pl.gcf().savefig(load_dir+'traj_single.png', bbox_inches=extent)"
   ]
  },
  {
   "cell_type": "code",
   "execution_count": null,
   "metadata": {},
   "outputs": [],
   "source": [
    "# for dataset in [ 151507, 151508, 151509, 151510, 151669, 151670, 151671, 151672, 151673, 151674, 151675, 151676]:\n",
    "for dataset in [151673]:\n",
    "    dataset = str(dataset)\n",
    "    load_dir = f'test_dlpfc/{dataset}/'\n",
    "    visium = STData(dataset)\n",
    "    emb = np.load(load_dir+'emb.npy')\n",
    "    emb_2d = np.load(load_dir + 'emb_2d.npy')\n",
    "    pred = np.load(load_dir+'pred_main.npy')\n",
    "\n",
    "    visium.adata.obs['pred'] = np.vectorize(dic.__getitem__)(pred)\n",
    "    visium.adata.obs['true'] = np.vectorize(dic.__getitem__)(visium.get_label())\n",
    "    visium.adata.obs['true'] = visium.adata.obs['true'].astype('category')\n",
    "    visium.adata.obs['pred'] = visium.adata.obs['pred'].astype('category')\n",
    "    visium.adata.obsm['emb'] = emb\n",
    "    visium.adata.obsm['umap'] = emb_2d\n",
    "    visium.adata.uns['true_colors'] = ['#2E91E5', '#E15F99', '#1CA71C', '#FB0D0D', '#DA16FF', '#222A2A', '#B68100']\n",
    "    sc.pp.neighbors(visium.adata, n_neighbors=10, use_rep='emb')\n",
    "    sc.tl.paga(visium.adata, groups='true')\n",
    "    sc.pl.paga_compare(visium.adata, legend_fontsize=0, frameon=False, size=20,\n",
    "                        legend_fontoutline=0, show=False, threshold=0.3)\n",
    "    pl.savefig(load_dir + 'traj.png')\n",
    "    extent = pl.gca().get_window_extent().transformed(pl.gcf().dpi_scale_trans.inverted())\n",
    "    pl.gcf().savefig(load_dir+'traj_single.png', bbox_inches=extent)\n",
    "    _ = visium.px_plot_embedding(emb_2d, visium.get_label(), save_path=load_dir+'true_emb.png')"
   ]
  }
 ],
 "metadata": {
  "kernelspec": {
   "display_name": "mmeg",
   "language": "python",
   "name": "python3"
  },
  "language_info": {
   "codemirror_mode": {
    "name": "ipython",
    "version": 3
   },
   "file_extension": ".py",
   "mimetype": "text/x-python",
   "name": "python",
   "nbconvert_exporter": "python",
   "pygments_lexer": "ipython3",
   "version": "3.8.15"
  },
  "orig_nbformat": 4
 },
 "nbformat": 4,
 "nbformat_minor": 2
}
